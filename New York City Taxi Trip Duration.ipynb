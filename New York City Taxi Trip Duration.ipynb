{
 "cells": [
  {
   "cell_type": "code",
   "execution_count": 1,
   "metadata": {},
   "outputs": [],
   "source": [
    "import pandas as pd\n",
    "import numpy as np \n",
    "from sklearn.model_selection import GridSearchCV\n",
    "from sklearn.ensemble import RandomForestRegressor "
   ]
  },
  {
   "cell_type": "markdown",
   "metadata": {},
   "source": [
    "Importing the training dataset"
   ]
  },
  {
   "cell_type": "code",
   "execution_count": 2,
   "metadata": {},
   "outputs": [],
   "source": [
    "train = pd.read_csv('E:/Arvind/Kaggle/New York City Taxi Trip Duration/Input/train.csv')"
   ]
  },
  {
   "cell_type": "code",
   "execution_count": 3,
   "metadata": {},
   "outputs": [
    {
     "data": {
      "text/plain": [
       "(1458644, 11)"
      ]
     },
     "execution_count": 3,
     "metadata": {},
     "output_type": "execute_result"
    }
   ],
   "source": [
    "train.shape"
   ]
  },
  {
   "cell_type": "code",
   "execution_count": 4,
   "metadata": {},
   "outputs": [
    {
     "data": {
      "text/html": [
       "<div>\n",
       "<style scoped>\n",
       "    .dataframe tbody tr th:only-of-type {\n",
       "        vertical-align: middle;\n",
       "    }\n",
       "\n",
       "    .dataframe tbody tr th {\n",
       "        vertical-align: top;\n",
       "    }\n",
       "\n",
       "    .dataframe thead th {\n",
       "        text-align: right;\n",
       "    }\n",
       "</style>\n",
       "<table border=\"1\" class=\"dataframe\">\n",
       "  <thead>\n",
       "    <tr style=\"text-align: right;\">\n",
       "      <th></th>\n",
       "      <th>id</th>\n",
       "      <th>vendor_id</th>\n",
       "      <th>pickup_datetime</th>\n",
       "      <th>dropoff_datetime</th>\n",
       "      <th>passenger_count</th>\n",
       "      <th>pickup_longitude</th>\n",
       "      <th>pickup_latitude</th>\n",
       "      <th>dropoff_longitude</th>\n",
       "      <th>dropoff_latitude</th>\n",
       "      <th>store_and_fwd_flag</th>\n",
       "      <th>trip_duration</th>\n",
       "    </tr>\n",
       "  </thead>\n",
       "  <tbody>\n",
       "    <tr>\n",
       "      <th>0</th>\n",
       "      <td>id2875421</td>\n",
       "      <td>2</td>\n",
       "      <td>2016-03-14 17:24:55</td>\n",
       "      <td>2016-03-14 17:32:30</td>\n",
       "      <td>1</td>\n",
       "      <td>-73.982155</td>\n",
       "      <td>40.767937</td>\n",
       "      <td>-73.964630</td>\n",
       "      <td>40.765602</td>\n",
       "      <td>N</td>\n",
       "      <td>455</td>\n",
       "    </tr>\n",
       "    <tr>\n",
       "      <th>1</th>\n",
       "      <td>id2377394</td>\n",
       "      <td>1</td>\n",
       "      <td>2016-06-12 00:43:35</td>\n",
       "      <td>2016-06-12 00:54:38</td>\n",
       "      <td>1</td>\n",
       "      <td>-73.980415</td>\n",
       "      <td>40.738564</td>\n",
       "      <td>-73.999481</td>\n",
       "      <td>40.731152</td>\n",
       "      <td>N</td>\n",
       "      <td>663</td>\n",
       "    </tr>\n",
       "    <tr>\n",
       "      <th>2</th>\n",
       "      <td>id3858529</td>\n",
       "      <td>2</td>\n",
       "      <td>2016-01-19 11:35:24</td>\n",
       "      <td>2016-01-19 12:10:48</td>\n",
       "      <td>1</td>\n",
       "      <td>-73.979027</td>\n",
       "      <td>40.763939</td>\n",
       "      <td>-74.005333</td>\n",
       "      <td>40.710087</td>\n",
       "      <td>N</td>\n",
       "      <td>2124</td>\n",
       "    </tr>\n",
       "    <tr>\n",
       "      <th>3</th>\n",
       "      <td>id3504673</td>\n",
       "      <td>2</td>\n",
       "      <td>2016-04-06 19:32:31</td>\n",
       "      <td>2016-04-06 19:39:40</td>\n",
       "      <td>1</td>\n",
       "      <td>-74.010040</td>\n",
       "      <td>40.719971</td>\n",
       "      <td>-74.012268</td>\n",
       "      <td>40.706718</td>\n",
       "      <td>N</td>\n",
       "      <td>429</td>\n",
       "    </tr>\n",
       "    <tr>\n",
       "      <th>4</th>\n",
       "      <td>id2181028</td>\n",
       "      <td>2</td>\n",
       "      <td>2016-03-26 13:30:55</td>\n",
       "      <td>2016-03-26 13:38:10</td>\n",
       "      <td>1</td>\n",
       "      <td>-73.973053</td>\n",
       "      <td>40.793209</td>\n",
       "      <td>-73.972923</td>\n",
       "      <td>40.782520</td>\n",
       "      <td>N</td>\n",
       "      <td>435</td>\n",
       "    </tr>\n",
       "  </tbody>\n",
       "</table>\n",
       "</div>"
      ],
      "text/plain": [
       "          id  vendor_id      pickup_datetime     dropoff_datetime  \\\n",
       "0  id2875421          2  2016-03-14 17:24:55  2016-03-14 17:32:30   \n",
       "1  id2377394          1  2016-06-12 00:43:35  2016-06-12 00:54:38   \n",
       "2  id3858529          2  2016-01-19 11:35:24  2016-01-19 12:10:48   \n",
       "3  id3504673          2  2016-04-06 19:32:31  2016-04-06 19:39:40   \n",
       "4  id2181028          2  2016-03-26 13:30:55  2016-03-26 13:38:10   \n",
       "\n",
       "   passenger_count  pickup_longitude  pickup_latitude  dropoff_longitude  \\\n",
       "0                1        -73.982155        40.767937         -73.964630   \n",
       "1                1        -73.980415        40.738564         -73.999481   \n",
       "2                1        -73.979027        40.763939         -74.005333   \n",
       "3                1        -74.010040        40.719971         -74.012268   \n",
       "4                1        -73.973053        40.793209         -73.972923   \n",
       "\n",
       "   dropoff_latitude store_and_fwd_flag  trip_duration  \n",
       "0         40.765602                  N            455  \n",
       "1         40.731152                  N            663  \n",
       "2         40.710087                  N           2124  \n",
       "3         40.706718                  N            429  \n",
       "4         40.782520                  N            435  "
      ]
     },
     "execution_count": 4,
     "metadata": {},
     "output_type": "execute_result"
    }
   ],
   "source": [
    "train.head()"
   ]
  },
  {
   "cell_type": "code",
   "execution_count": 5,
   "metadata": {},
   "outputs": [
    {
     "name": "stdout",
     "output_type": "stream",
     "text": [
      "<bound method NDFrame.describe of                 id  vendor_id      pickup_datetime     dropoff_datetime  \\\n",
      "0        id2875421          2  2016-03-14 17:24:55  2016-03-14 17:32:30   \n",
      "1        id2377394          1  2016-06-12 00:43:35  2016-06-12 00:54:38   \n",
      "2        id3858529          2  2016-01-19 11:35:24  2016-01-19 12:10:48   \n",
      "3        id3504673          2  2016-04-06 19:32:31  2016-04-06 19:39:40   \n",
      "4        id2181028          2  2016-03-26 13:30:55  2016-03-26 13:38:10   \n",
      "...            ...        ...                  ...                  ...   \n",
      "1458639  id2376096          2  2016-04-08 13:31:04  2016-04-08 13:44:02   \n",
      "1458640  id1049543          1  2016-01-10 07:35:15  2016-01-10 07:46:10   \n",
      "1458641  id2304944          2  2016-04-22 06:57:41  2016-04-22 07:10:25   \n",
      "1458642  id2714485          1  2016-01-05 15:56:26  2016-01-05 16:02:39   \n",
      "1458643  id1209952          1  2016-04-05 14:44:25  2016-04-05 14:47:43   \n",
      "\n",
      "         passenger_count  pickup_longitude  pickup_latitude  \\\n",
      "0                      1        -73.982155        40.767937   \n",
      "1                      1        -73.980415        40.738564   \n",
      "2                      1        -73.979027        40.763939   \n",
      "3                      1        -74.010040        40.719971   \n",
      "4                      1        -73.973053        40.793209   \n",
      "...                  ...               ...              ...   \n",
      "1458639                4        -73.982201        40.745522   \n",
      "1458640                1        -74.000946        40.747379   \n",
      "1458641                1        -73.959129        40.768799   \n",
      "1458642                1        -73.982079        40.749062   \n",
      "1458643                1        -73.979538        40.781750   \n",
      "\n",
      "         dropoff_longitude  dropoff_latitude store_and_fwd_flag  trip_duration  \n",
      "0               -73.964630         40.765602                  N            455  \n",
      "1               -73.999481         40.731152                  N            663  \n",
      "2               -74.005333         40.710087                  N           2124  \n",
      "3               -74.012268         40.706718                  N            429  \n",
      "4               -73.972923         40.782520                  N            435  \n",
      "...                    ...               ...                ...            ...  \n",
      "1458639         -73.994911         40.740170                  N            778  \n",
      "1458640         -73.970184         40.796547                  N            655  \n",
      "1458641         -74.004433         40.707371                  N            764  \n",
      "1458642         -73.974632         40.757107                  N            373  \n",
      "1458643         -73.972809         40.790585                  N            198  \n",
      "\n",
      "[1458644 rows x 11 columns]>\n"
     ]
    }
   ],
   "source": [
    "print(train.describe)"
   ]
  },
  {
   "cell_type": "markdown",
   "metadata": {},
   "source": [
    "Feature Engineering"
   ]
  },
  {
   "cell_type": "markdown",
   "metadata": {},
   "source": [
    "1) Encoding vendor_id           "
   ]
  },
  {
   "cell_type": "code",
   "execution_count": 6,
   "metadata": {},
   "outputs": [],
   "source": [
    "train = pd.concat((train,pd.get_dummies(train['vendor_id'],prefix = 'vendor_id' )),axis=1)"
   ]
  },
  {
   "cell_type": "code",
   "execution_count": 7,
   "metadata": {},
   "outputs": [
    {
     "data": {
      "text/plain": [
       "vendor_id\n",
       "1     845.438244\n",
       "2    1058.643164\n",
       "Name: trip_duration, dtype: float64"
      ]
     },
     "execution_count": 7,
     "metadata": {},
     "output_type": "execute_result"
    }
   ],
   "source": [
    "train.groupby('vendor_id')['trip_duration'].mean()"
   ]
  },
  {
   "cell_type": "markdown",
   "metadata": {},
   "source": [
    "2) Pickup hour, day and week and then encoding"
   ]
  },
  {
   "cell_type": "code",
   "execution_count": 5,
   "metadata": {},
   "outputs": [
    {
     "name": "stderr",
     "output_type": "stream",
     "text": [
      "<ipython-input-5-645caa8235e0>:5: FutureWarning: Series.dt.weekofyear and Series.dt.week have been deprecated.  Please use Series.dt.isocalendar().week instead.\n",
      "  train['pickup_week'] = train.pickup_datetime.dt.week\n"
     ]
    }
   ],
   "source": [
    "train['pickup_datetime'] =  pd.to_datetime(train['pickup_datetime'])\n",
    "\n",
    "train['pickup_hour'] = train['pickup_datetime'].dt.hour\n",
    "train['pickup_day'] = train['pickup_datetime'].dt.day\n",
    "train['pickup_week'] = train['pickup_datetime'].dt.week"
   ]
  },
  {
   "cell_type": "code",
   "execution_count": 9,
   "metadata": {},
   "outputs": [
    {
     "data": {
      "text/html": [
       "<div>\n",
       "<style scoped>\n",
       "    .dataframe tbody tr th:only-of-type {\n",
       "        vertical-align: middle;\n",
       "    }\n",
       "\n",
       "    .dataframe tbody tr th {\n",
       "        vertical-align: top;\n",
       "    }\n",
       "\n",
       "    .dataframe thead th {\n",
       "        text-align: right;\n",
       "    }\n",
       "</style>\n",
       "<table border=\"1\" class=\"dataframe\">\n",
       "  <thead>\n",
       "    <tr style=\"text-align: right;\">\n",
       "      <th></th>\n",
       "      <th>id</th>\n",
       "      <th>vendor_id</th>\n",
       "      <th>pickup_datetime</th>\n",
       "      <th>dropoff_datetime</th>\n",
       "      <th>passenger_count</th>\n",
       "      <th>pickup_longitude</th>\n",
       "      <th>pickup_latitude</th>\n",
       "      <th>dropoff_longitude</th>\n",
       "      <th>dropoff_latitude</th>\n",
       "      <th>store_and_fwd_flag</th>\n",
       "      <th>trip_duration</th>\n",
       "      <th>vendor_id_1</th>\n",
       "      <th>vendor_id_2</th>\n",
       "      <th>pickup_hour</th>\n",
       "      <th>pickup_day</th>\n",
       "      <th>pickup_week</th>\n",
       "    </tr>\n",
       "  </thead>\n",
       "  <tbody>\n",
       "    <tr>\n",
       "      <th>0</th>\n",
       "      <td>id2875421</td>\n",
       "      <td>2</td>\n",
       "      <td>2016-03-14 17:24:55</td>\n",
       "      <td>2016-03-14 17:32:30</td>\n",
       "      <td>1</td>\n",
       "      <td>-73.982155</td>\n",
       "      <td>40.767937</td>\n",
       "      <td>-73.964630</td>\n",
       "      <td>40.765602</td>\n",
       "      <td>N</td>\n",
       "      <td>455</td>\n",
       "      <td>0</td>\n",
       "      <td>1</td>\n",
       "      <td>17</td>\n",
       "      <td>14</td>\n",
       "      <td>11</td>\n",
       "    </tr>\n",
       "    <tr>\n",
       "      <th>1</th>\n",
       "      <td>id2377394</td>\n",
       "      <td>1</td>\n",
       "      <td>2016-06-12 00:43:35</td>\n",
       "      <td>2016-06-12 00:54:38</td>\n",
       "      <td>1</td>\n",
       "      <td>-73.980415</td>\n",
       "      <td>40.738564</td>\n",
       "      <td>-73.999481</td>\n",
       "      <td>40.731152</td>\n",
       "      <td>N</td>\n",
       "      <td>663</td>\n",
       "      <td>1</td>\n",
       "      <td>0</td>\n",
       "      <td>0</td>\n",
       "      <td>12</td>\n",
       "      <td>23</td>\n",
       "    </tr>\n",
       "    <tr>\n",
       "      <th>2</th>\n",
       "      <td>id3858529</td>\n",
       "      <td>2</td>\n",
       "      <td>2016-01-19 11:35:24</td>\n",
       "      <td>2016-01-19 12:10:48</td>\n",
       "      <td>1</td>\n",
       "      <td>-73.979027</td>\n",
       "      <td>40.763939</td>\n",
       "      <td>-74.005333</td>\n",
       "      <td>40.710087</td>\n",
       "      <td>N</td>\n",
       "      <td>2124</td>\n",
       "      <td>0</td>\n",
       "      <td>1</td>\n",
       "      <td>11</td>\n",
       "      <td>19</td>\n",
       "      <td>3</td>\n",
       "    </tr>\n",
       "    <tr>\n",
       "      <th>3</th>\n",
       "      <td>id3504673</td>\n",
       "      <td>2</td>\n",
       "      <td>2016-04-06 19:32:31</td>\n",
       "      <td>2016-04-06 19:39:40</td>\n",
       "      <td>1</td>\n",
       "      <td>-74.010040</td>\n",
       "      <td>40.719971</td>\n",
       "      <td>-74.012268</td>\n",
       "      <td>40.706718</td>\n",
       "      <td>N</td>\n",
       "      <td>429</td>\n",
       "      <td>0</td>\n",
       "      <td>1</td>\n",
       "      <td>19</td>\n",
       "      <td>6</td>\n",
       "      <td>14</td>\n",
       "    </tr>\n",
       "    <tr>\n",
       "      <th>4</th>\n",
       "      <td>id2181028</td>\n",
       "      <td>2</td>\n",
       "      <td>2016-03-26 13:30:55</td>\n",
       "      <td>2016-03-26 13:38:10</td>\n",
       "      <td>1</td>\n",
       "      <td>-73.973053</td>\n",
       "      <td>40.793209</td>\n",
       "      <td>-73.972923</td>\n",
       "      <td>40.782520</td>\n",
       "      <td>N</td>\n",
       "      <td>435</td>\n",
       "      <td>0</td>\n",
       "      <td>1</td>\n",
       "      <td>13</td>\n",
       "      <td>26</td>\n",
       "      <td>12</td>\n",
       "    </tr>\n",
       "  </tbody>\n",
       "</table>\n",
       "</div>"
      ],
      "text/plain": [
       "          id  vendor_id     pickup_datetime     dropoff_datetime  \\\n",
       "0  id2875421          2 2016-03-14 17:24:55  2016-03-14 17:32:30   \n",
       "1  id2377394          1 2016-06-12 00:43:35  2016-06-12 00:54:38   \n",
       "2  id3858529          2 2016-01-19 11:35:24  2016-01-19 12:10:48   \n",
       "3  id3504673          2 2016-04-06 19:32:31  2016-04-06 19:39:40   \n",
       "4  id2181028          2 2016-03-26 13:30:55  2016-03-26 13:38:10   \n",
       "\n",
       "   passenger_count  pickup_longitude  pickup_latitude  dropoff_longitude  \\\n",
       "0                1        -73.982155        40.767937         -73.964630   \n",
       "1                1        -73.980415        40.738564         -73.999481   \n",
       "2                1        -73.979027        40.763939         -74.005333   \n",
       "3                1        -74.010040        40.719971         -74.012268   \n",
       "4                1        -73.973053        40.793209         -73.972923   \n",
       "\n",
       "   dropoff_latitude store_and_fwd_flag  trip_duration  vendor_id_1  \\\n",
       "0         40.765602                  N            455            0   \n",
       "1         40.731152                  N            663            1   \n",
       "2         40.710087                  N           2124            0   \n",
       "3         40.706718                  N            429            0   \n",
       "4         40.782520                  N            435            0   \n",
       "\n",
       "   vendor_id_2  pickup_hour  pickup_day  pickup_week  \n",
       "0            1           17          14           11  \n",
       "1            0            0          12           23  \n",
       "2            1           11          19            3  \n",
       "3            1           19           6           14  \n",
       "4            1           13          26           12  "
      ]
     },
     "execution_count": 9,
     "metadata": {},
     "output_type": "execute_result"
    }
   ],
   "source": [
    "train.head()"
   ]
  },
  {
   "cell_type": "code",
   "execution_count": 12,
   "metadata": {},
   "outputs": [
    {
     "name": "stdout",
     "output_type": "stream",
     "text": [
      "pickup_hour\n",
      "0      936.657302\n",
      "1      903.087112\n",
      "2      890.076934\n",
      "3      890.070878\n",
      "4      921.976444\n",
      "5      822.298960\n",
      "6      797.434943\n",
      "7      831.758345\n",
      "8      924.559199\n",
      "9      933.528915\n",
      "10     933.367605\n",
      "11     966.430282\n",
      "12     993.533079\n",
      "13    1032.246359\n",
      "14    1075.789264\n",
      "15    1118.832533\n",
      "16    1080.146285\n",
      "17    1030.581619\n",
      "18     981.583234\n",
      "19     894.356679\n",
      "20     879.461545\n",
      "21     890.521221\n",
      "22    1023.455921\n",
      "23     925.091409\n",
      "Name: trip_duration, dtype: float64\n",
      "pickup_day\n",
      "1      958.053978\n",
      "2      928.860299\n",
      "3      976.247221\n",
      "4      947.549451\n",
      "5     1020.272899\n",
      "6      935.184170\n",
      "7      900.626102\n",
      "8      940.452475\n",
      "9      945.018737\n",
      "10     926.881474\n",
      "11     934.831389\n",
      "12     939.305731\n",
      "13    1067.434301\n",
      "14     972.608976\n",
      "15     969.430961\n",
      "16     952.495522\n",
      "17     983.950988\n",
      "18     947.133166\n",
      "19     959.540262\n",
      "20     949.521607\n",
      "21     947.743779\n",
      "22     963.256846\n",
      "23     971.127793\n",
      "24     989.043896\n",
      "25     991.575221\n",
      "26     985.632440\n",
      "27     955.167025\n",
      "28     968.629884\n",
      "29     932.806952\n",
      "30     916.648115\n",
      "31     965.229033\n",
      "Name: trip_duration, dtype: float64\n",
      "pickup_week\n",
      "1      910.520863\n",
      "2      886.400587\n",
      "3      895.119314\n",
      "4     1004.370254\n",
      "5      889.728629\n",
      "6      983.420360\n",
      "7      897.975716\n",
      "8      909.278917\n",
      "9      915.443757\n",
      "10     934.764948\n",
      "11     956.476520\n",
      "12     944.589107\n",
      "13     931.408074\n",
      "14     950.141250\n",
      "15     983.631102\n",
      "16     989.357731\n",
      "17     948.206721\n",
      "18     982.757292\n",
      "19    1026.120560\n",
      "20    1031.275197\n",
      "21     975.015263\n",
      "22    1000.392410\n",
      "23    1025.474620\n",
      "24     997.818449\n",
      "25    1012.119459\n",
      "26    1001.935852\n",
      "53     895.738353\n",
      "Name: trip_duration, dtype: float64\n"
     ]
    }
   ],
   "source": [
    "print(train.groupby('pickup_hour')['trip_duration'].mean())\n",
    "print(train.groupby('pickup_day')['trip_duration'].mean())\n",
    "print(train.groupby('pickup_week')['trip_duration'].mean())"
   ]
  },
  {
   "cell_type": "code",
   "execution_count": 13,
   "metadata": {},
   "outputs": [
    {
     "name": "stdout",
     "output_type": "stream",
     "text": [
      "0     53248\n",
      "1     38571\n",
      "2     27972\n",
      "3     20895\n",
      "4     15792\n",
      "5     15002\n",
      "6     33248\n",
      "7     55600\n",
      "8     67053\n",
      "9     67663\n",
      "10    65437\n",
      "11    68476\n",
      "12    71873\n",
      "13    71473\n",
      "14    74292\n",
      "15    71811\n",
      "16    64313\n",
      "17    76483\n",
      "18    90600\n",
      "19    90308\n",
      "20    84072\n",
      "21    84185\n",
      "22    80492\n",
      "23    69785\n",
      "Name: pickup_hour, dtype: int64\n",
      "1     46612\n",
      "2     47752\n",
      "3     47945\n",
      "4     49655\n",
      "5     50176\n",
      "6     49476\n",
      "7     48671\n",
      "8     48248\n",
      "9     49634\n",
      "10    48867\n",
      "11    48864\n",
      "12    50080\n",
      "13    49293\n",
      "14    50488\n",
      "15    49791\n",
      "16    51027\n",
      "17    48968\n",
      "18    47925\n",
      "19    49265\n",
      "20    49198\n",
      "21    48306\n",
      "22    47254\n",
      "23    41450\n",
      "24    43876\n",
      "25    46450\n",
      "26    47595\n",
      "27    46957\n",
      "28    45891\n",
      "29    46807\n",
      "30    39135\n",
      "31    22988\n",
      "Name: pickup_day, dtype: int64\n",
      "1     53204\n",
      "2     56934\n",
      "3     45309\n",
      "4     54233\n",
      "5     56163\n",
      "6     59047\n",
      "7     57158\n",
      "8     58530\n",
      "9     59679\n",
      "10    57817\n",
      "11    59200\n",
      "12    55501\n",
      "13    57443\n",
      "14    60807\n",
      "15    60060\n",
      "16    55824\n",
      "17    56869\n",
      "18    59520\n",
      "19    57598\n",
      "20    58420\n",
      "21    52284\n",
      "22    53783\n",
      "23    55259\n",
      "24    54106\n",
      "25    54094\n",
      "26    29775\n",
      "53    20027\n",
      "Name: pickup_week, dtype: int64\n"
     ]
    }
   ],
   "source": [
    "print(train['pickup_hour'].value_counts().sort_index())\n",
    "print(train['pickup_day'].value_counts().sort_index())\n",
    "print(train['pickup_week'].value_counts().sort_index())"
   ]
  },
  {
   "cell_type": "markdown",
   "metadata": {},
   "source": [
    "Note: Training data has only till 26 week and then 53rd week, so we will only use hour and day in our feature list\n",
    "Encoding them below"
   ]
  },
  {
   "cell_type": "code",
   "execution_count": 18,
   "metadata": {},
   "outputs": [],
   "source": [
    "train = pd.concat((train,pd.get_dummies(train['pickup_hour'],prefix = 'pickup_hour' )),axis=1)\n",
    "train = pd.concat((train,pd.get_dummies(train['pickup_day'],prefix = 'pickup_day' )),axis=1)"
   ]
  },
  {
   "cell_type": "code",
   "execution_count": 19,
   "metadata": {},
   "outputs": [
    {
     "data": {
      "text/html": [
       "<div>\n",
       "<style scoped>\n",
       "    .dataframe tbody tr th:only-of-type {\n",
       "        vertical-align: middle;\n",
       "    }\n",
       "\n",
       "    .dataframe tbody tr th {\n",
       "        vertical-align: top;\n",
       "    }\n",
       "\n",
       "    .dataframe thead th {\n",
       "        text-align: right;\n",
       "    }\n",
       "</style>\n",
       "<table border=\"1\" class=\"dataframe\">\n",
       "  <thead>\n",
       "    <tr style=\"text-align: right;\">\n",
       "      <th></th>\n",
       "      <th>id</th>\n",
       "      <th>vendor_id</th>\n",
       "      <th>pickup_datetime</th>\n",
       "      <th>dropoff_datetime</th>\n",
       "      <th>passenger_count</th>\n",
       "      <th>pickup_longitude</th>\n",
       "      <th>pickup_latitude</th>\n",
       "      <th>dropoff_longitude</th>\n",
       "      <th>dropoff_latitude</th>\n",
       "      <th>store_and_fwd_flag</th>\n",
       "      <th>...</th>\n",
       "      <th>pickup_day_22</th>\n",
       "      <th>pickup_day_23</th>\n",
       "      <th>pickup_day_24</th>\n",
       "      <th>pickup_day_25</th>\n",
       "      <th>pickup_day_26</th>\n",
       "      <th>pickup_day_27</th>\n",
       "      <th>pickup_day_28</th>\n",
       "      <th>pickup_day_29</th>\n",
       "      <th>pickup_day_30</th>\n",
       "      <th>pickup_day_31</th>\n",
       "    </tr>\n",
       "  </thead>\n",
       "  <tbody>\n",
       "    <tr>\n",
       "      <th>0</th>\n",
       "      <td>id2875421</td>\n",
       "      <td>2</td>\n",
       "      <td>2016-03-14 17:24:55</td>\n",
       "      <td>2016-03-14 17:32:30</td>\n",
       "      <td>1</td>\n",
       "      <td>-73.982155</td>\n",
       "      <td>40.767937</td>\n",
       "      <td>-73.964630</td>\n",
       "      <td>40.765602</td>\n",
       "      <td>N</td>\n",
       "      <td>...</td>\n",
       "      <td>0</td>\n",
       "      <td>0</td>\n",
       "      <td>0</td>\n",
       "      <td>0</td>\n",
       "      <td>0</td>\n",
       "      <td>0</td>\n",
       "      <td>0</td>\n",
       "      <td>0</td>\n",
       "      <td>0</td>\n",
       "      <td>0</td>\n",
       "    </tr>\n",
       "    <tr>\n",
       "      <th>1</th>\n",
       "      <td>id2377394</td>\n",
       "      <td>1</td>\n",
       "      <td>2016-06-12 00:43:35</td>\n",
       "      <td>2016-06-12 00:54:38</td>\n",
       "      <td>1</td>\n",
       "      <td>-73.980415</td>\n",
       "      <td>40.738564</td>\n",
       "      <td>-73.999481</td>\n",
       "      <td>40.731152</td>\n",
       "      <td>N</td>\n",
       "      <td>...</td>\n",
       "      <td>0</td>\n",
       "      <td>0</td>\n",
       "      <td>0</td>\n",
       "      <td>0</td>\n",
       "      <td>0</td>\n",
       "      <td>0</td>\n",
       "      <td>0</td>\n",
       "      <td>0</td>\n",
       "      <td>0</td>\n",
       "      <td>0</td>\n",
       "    </tr>\n",
       "    <tr>\n",
       "      <th>2</th>\n",
       "      <td>id3858529</td>\n",
       "      <td>2</td>\n",
       "      <td>2016-01-19 11:35:24</td>\n",
       "      <td>2016-01-19 12:10:48</td>\n",
       "      <td>1</td>\n",
       "      <td>-73.979027</td>\n",
       "      <td>40.763939</td>\n",
       "      <td>-74.005333</td>\n",
       "      <td>40.710087</td>\n",
       "      <td>N</td>\n",
       "      <td>...</td>\n",
       "      <td>0</td>\n",
       "      <td>0</td>\n",
       "      <td>0</td>\n",
       "      <td>0</td>\n",
       "      <td>0</td>\n",
       "      <td>0</td>\n",
       "      <td>0</td>\n",
       "      <td>0</td>\n",
       "      <td>0</td>\n",
       "      <td>0</td>\n",
       "    </tr>\n",
       "    <tr>\n",
       "      <th>3</th>\n",
       "      <td>id3504673</td>\n",
       "      <td>2</td>\n",
       "      <td>2016-04-06 19:32:31</td>\n",
       "      <td>2016-04-06 19:39:40</td>\n",
       "      <td>1</td>\n",
       "      <td>-74.010040</td>\n",
       "      <td>40.719971</td>\n",
       "      <td>-74.012268</td>\n",
       "      <td>40.706718</td>\n",
       "      <td>N</td>\n",
       "      <td>...</td>\n",
       "      <td>0</td>\n",
       "      <td>0</td>\n",
       "      <td>0</td>\n",
       "      <td>0</td>\n",
       "      <td>0</td>\n",
       "      <td>0</td>\n",
       "      <td>0</td>\n",
       "      <td>0</td>\n",
       "      <td>0</td>\n",
       "      <td>0</td>\n",
       "    </tr>\n",
       "    <tr>\n",
       "      <th>4</th>\n",
       "      <td>id2181028</td>\n",
       "      <td>2</td>\n",
       "      <td>2016-03-26 13:30:55</td>\n",
       "      <td>2016-03-26 13:38:10</td>\n",
       "      <td>1</td>\n",
       "      <td>-73.973053</td>\n",
       "      <td>40.793209</td>\n",
       "      <td>-73.972923</td>\n",
       "      <td>40.782520</td>\n",
       "      <td>N</td>\n",
       "      <td>...</td>\n",
       "      <td>0</td>\n",
       "      <td>0</td>\n",
       "      <td>0</td>\n",
       "      <td>0</td>\n",
       "      <td>1</td>\n",
       "      <td>0</td>\n",
       "      <td>0</td>\n",
       "      <td>0</td>\n",
       "      <td>0</td>\n",
       "      <td>0</td>\n",
       "    </tr>\n",
       "  </tbody>\n",
       "</table>\n",
       "<p>5 rows × 72 columns</p>\n",
       "</div>"
      ],
      "text/plain": [
       "          id  vendor_id     pickup_datetime     dropoff_datetime  \\\n",
       "0  id2875421          2 2016-03-14 17:24:55  2016-03-14 17:32:30   \n",
       "1  id2377394          1 2016-06-12 00:43:35  2016-06-12 00:54:38   \n",
       "2  id3858529          2 2016-01-19 11:35:24  2016-01-19 12:10:48   \n",
       "3  id3504673          2 2016-04-06 19:32:31  2016-04-06 19:39:40   \n",
       "4  id2181028          2 2016-03-26 13:30:55  2016-03-26 13:38:10   \n",
       "\n",
       "   passenger_count  pickup_longitude  pickup_latitude  dropoff_longitude  \\\n",
       "0                1        -73.982155        40.767937         -73.964630   \n",
       "1                1        -73.980415        40.738564         -73.999481   \n",
       "2                1        -73.979027        40.763939         -74.005333   \n",
       "3                1        -74.010040        40.719971         -74.012268   \n",
       "4                1        -73.973053        40.793209         -73.972923   \n",
       "\n",
       "   dropoff_latitude store_and_fwd_flag  ...  pickup_day_22  pickup_day_23  \\\n",
       "0         40.765602                  N  ...              0              0   \n",
       "1         40.731152                  N  ...              0              0   \n",
       "2         40.710087                  N  ...              0              0   \n",
       "3         40.706718                  N  ...              0              0   \n",
       "4         40.782520                  N  ...              0              0   \n",
       "\n",
       "   pickup_day_24  pickup_day_25  pickup_day_26  pickup_day_27  pickup_day_28  \\\n",
       "0              0              0              0              0              0   \n",
       "1              0              0              0              0              0   \n",
       "2              0              0              0              0              0   \n",
       "3              0              0              0              0              0   \n",
       "4              0              0              1              0              0   \n",
       "\n",
       "   pickup_day_29  pickup_day_30  pickup_day_31  \n",
       "0              0              0              0  \n",
       "1              0              0              0  \n",
       "2              0              0              0  \n",
       "3              0              0              0  \n",
       "4              0              0              0  \n",
       "\n",
       "[5 rows x 72 columns]"
      ]
     },
     "execution_count": 19,
     "metadata": {},
     "output_type": "execute_result"
    }
   ],
   "source": [
    "train.head()"
   ]
  },
  {
   "cell_type": "markdown",
   "metadata": {},
   "source": [
    "3) Distance using latitude and longitude"
   ]
  },
  {
   "cell_type": "code",
   "execution_count": 14,
   "metadata": {},
   "outputs": [],
   "source": [
    "# Function that calculates distance between 4 np and returns np\n",
    "\n",
    "def distance(s_lat, s_lng, e_lat, e_lng):\n",
    "    \n",
    "    # approximate radius of earth in km\n",
    "    R = 6373.0\n",
    "    \n",
    "    s_lat = s_lat*np.pi/180.0                      \n",
    "    s_lng = np.deg2rad(s_lng)     \n",
    "    e_lat = np.deg2rad(e_lat)                       \n",
    "    e_lng = np.deg2rad(e_lng)  \n",
    "    \n",
    "    d = np.sin((e_lat - s_lat)/2)**2 + np.cos(s_lat)*np.cos(e_lat) * np.sin((e_lng - s_lng)/2)**2\n",
    "    \n",
    "    return 2 * R * np.arcsin(np.sqrt(d)) "
   ]
  },
  {
   "cell_type": "code",
   "execution_count": 15,
   "metadata": {},
   "outputs": [],
   "source": [
    "train['distance'] = distance(train['pickup_latitude'],train['pickup_longitude'],train['dropoff_latitude'],train['dropoff_longitude'])"
   ]
  },
  {
   "cell_type": "code",
   "execution_count": 16,
   "metadata": {},
   "outputs": [
    {
     "name": "stdout",
     "output_type": "stream",
     "text": [
      "distance\n",
      "(-0.001, 1.232]       468.338471\n",
      "(1.232, 2.094]        690.616156\n",
      "(2.094, 3.877]        964.122610\n",
      "(3.877, 1241.298]    1714.891856\n",
      "Name: trip_duration, dtype: float64\n"
     ]
    }
   ],
   "source": [
    "print(train.groupby(pd.qcut(train['distance'],4))['trip_duration'].mean())"
   ]
  },
  {
   "cell_type": "markdown",
   "metadata": {},
   "source": [
    "4) store_and_fwd_flag -\n",
    "EDA and then encoding"
   ]
  },
  {
   "cell_type": "code",
   "execution_count": 17,
   "metadata": {},
   "outputs": [
    {
     "name": "stdout",
     "output_type": "stream",
     "text": [
      "store_and_fwd_flag\n",
      "N     958.819706\n",
      "Y    1080.763331\n",
      "Name: trip_duration, dtype: float64\n"
     ]
    }
   ],
   "source": [
    "print(train.groupby('store_and_fwd_flag')['trip_duration'].mean())"
   ]
  },
  {
   "cell_type": "code",
   "execution_count": 20,
   "metadata": {},
   "outputs": [],
   "source": [
    "train = pd.concat((train,pd.get_dummies(train['store_and_fwd_flag'],prefix = 'store_and_fwd_flag' )),axis=1)"
   ]
  },
  {
   "cell_type": "code",
   "execution_count": 21,
   "metadata": {},
   "outputs": [
    {
     "data": {
      "text/plain": [
       "Index(['id', 'vendor_id', 'pickup_datetime', 'dropoff_datetime',\n",
       "       'passenger_count', 'pickup_longitude', 'pickup_latitude',\n",
       "       'dropoff_longitude', 'dropoff_latitude', 'store_and_fwd_flag',\n",
       "       'trip_duration', 'vendor_id_1', 'vendor_id_2', 'pickup_hour',\n",
       "       'pickup_day', 'pickup_week', 'distance', 'pickup_hour_0',\n",
       "       'pickup_hour_1', 'pickup_hour_2', 'pickup_hour_3', 'pickup_hour_4',\n",
       "       'pickup_hour_5', 'pickup_hour_6', 'pickup_hour_7', 'pickup_hour_8',\n",
       "       'pickup_hour_9', 'pickup_hour_10', 'pickup_hour_11', 'pickup_hour_12',\n",
       "       'pickup_hour_13', 'pickup_hour_14', 'pickup_hour_15', 'pickup_hour_16',\n",
       "       'pickup_hour_17', 'pickup_hour_18', 'pickup_hour_19', 'pickup_hour_20',\n",
       "       'pickup_hour_21', 'pickup_hour_22', 'pickup_hour_23', 'pickup_day_1',\n",
       "       'pickup_day_2', 'pickup_day_3', 'pickup_day_4', 'pickup_day_5',\n",
       "       'pickup_day_6', 'pickup_day_7', 'pickup_day_8', 'pickup_day_9',\n",
       "       'pickup_day_10', 'pickup_day_11', 'pickup_day_12', 'pickup_day_13',\n",
       "       'pickup_day_14', 'pickup_day_15', 'pickup_day_16', 'pickup_day_17',\n",
       "       'pickup_day_18', 'pickup_day_19', 'pickup_day_20', 'pickup_day_21',\n",
       "       'pickup_day_22', 'pickup_day_23', 'pickup_day_24', 'pickup_day_25',\n",
       "       'pickup_day_26', 'pickup_day_27', 'pickup_day_28', 'pickup_day_29',\n",
       "       'pickup_day_30', 'pickup_day_31', 'store_and_fwd_flag_N',\n",
       "       'store_and_fwd_flag_Y'],\n",
       "      dtype='object')"
      ]
     },
     "execution_count": 21,
     "metadata": {},
     "output_type": "execute_result"
    }
   ],
   "source": [
    "train.columns"
   ]
  },
  {
   "cell_type": "markdown",
   "metadata": {},
   "source": [
    "Test data import"
   ]
  },
  {
   "cell_type": "code",
   "execution_count": 42,
   "metadata": {},
   "outputs": [],
   "source": [
    "test = pd.read_csv('E:/Arvind/Kaggle/New York City Taxi Trip Duration/Input/test.csv')"
   ]
  },
  {
   "cell_type": "code",
   "execution_count": 43,
   "metadata": {},
   "outputs": [
    {
     "data": {
      "text/plain": [
       "(625134, 9)"
      ]
     },
     "execution_count": 43,
     "metadata": {},
     "output_type": "execute_result"
    }
   ],
   "source": [
    "test.shape"
   ]
  },
  {
   "cell_type": "code",
   "execution_count": 44,
   "metadata": {},
   "outputs": [
    {
     "name": "stdout",
     "output_type": "stream",
     "text": [
      "<class 'pandas.core.frame.DataFrame'>\n",
      "RangeIndex: 625134 entries, 0 to 625133\n",
      "Data columns (total 9 columns):\n",
      " #   Column              Non-Null Count   Dtype  \n",
      "---  ------              --------------   -----  \n",
      " 0   id                  625134 non-null  object \n",
      " 1   vendor_id           625134 non-null  int64  \n",
      " 2   pickup_datetime     625134 non-null  object \n",
      " 3   passenger_count     625134 non-null  int64  \n",
      " 4   pickup_longitude    625134 non-null  float64\n",
      " 5   pickup_latitude     625134 non-null  float64\n",
      " 6   dropoff_longitude   625134 non-null  float64\n",
      " 7   dropoff_latitude    625134 non-null  float64\n",
      " 8   store_and_fwd_flag  625134 non-null  object \n",
      "dtypes: float64(4), int64(2), object(3)\n",
      "memory usage: 42.9+ MB\n",
      "None\n"
     ]
    }
   ],
   "source": [
    "print(test.info())"
   ]
  },
  {
   "cell_type": "markdown",
   "metadata": {},
   "source": [
    "Feature Engineering"
   ]
  },
  {
   "cell_type": "markdown",
   "metadata": {},
   "source": [
    "1) Encoding vendor_id           "
   ]
  },
  {
   "cell_type": "code",
   "execution_count": 45,
   "metadata": {},
   "outputs": [],
   "source": [
    "test = pd.concat((test,pd.get_dummies(test['vendor_id'],prefix = 'vendor_id' )),axis=1)"
   ]
  },
  {
   "cell_type": "markdown",
   "metadata": {},
   "source": [
    "2) Pickup hour, day"
   ]
  },
  {
   "cell_type": "code",
   "execution_count": 46,
   "metadata": {},
   "outputs": [],
   "source": [
    "test['pickup_datetime'] = pd.to_datetime(test.pickup_datetime)\n",
    "\n",
    "test['pickup_hour'] = test.pickup_datetime.dt.hour.astype(int)\n",
    "test['pickup_day'] = test.pickup_datetime.dt.day.astype(int)\n"
   ]
  },
  {
   "cell_type": "code",
   "execution_count": 47,
   "metadata": {},
   "outputs": [],
   "source": [
    "test['pickup_hour'] = test['pickup_hour'].astype(int)\n",
    "test['pickup_day'] = test['pickup_day'].astype(int)\n"
   ]
  },
  {
   "cell_type": "code",
   "execution_count": 50,
   "metadata": {},
   "outputs": [],
   "source": [
    "test = pd.concat((test,pd.get_dummies(test['pickup_hour'],prefix = 'pickup_hour' )),axis=1)\n",
    "test = pd.concat((test,pd.get_dummies(test['pickup_day'],prefix = 'pickup_day' )),axis=1)"
   ]
  },
  {
   "cell_type": "code",
   "execution_count": 51,
   "metadata": {},
   "outputs": [
    {
     "data": {
      "text/plain": [
       "Index(['id', 'vendor_id', 'pickup_datetime', 'passenger_count',\n",
       "       'pickup_longitude', 'pickup_latitude', 'dropoff_longitude',\n",
       "       'dropoff_latitude', 'store_and_fwd_flag', 'vendor_id_1', 'vendor_id_2',\n",
       "       'pickup_hour', 'pickup_day', 'pickup_hour_0', 'pickup_hour_1',\n",
       "       'pickup_hour_2', 'pickup_hour_3', 'pickup_hour_4', 'pickup_hour_5',\n",
       "       'pickup_hour_6', 'pickup_hour_7', 'pickup_hour_8', 'pickup_hour_9',\n",
       "       'pickup_hour_10', 'pickup_hour_11', 'pickup_hour_12', 'pickup_hour_13',\n",
       "       'pickup_hour_14', 'pickup_hour_15', 'pickup_hour_16', 'pickup_hour_17',\n",
       "       'pickup_hour_18', 'pickup_hour_19', 'pickup_hour_20', 'pickup_hour_21',\n",
       "       'pickup_hour_22', 'pickup_hour_23', 'pickup_day_1', 'pickup_day_2',\n",
       "       'pickup_day_3', 'pickup_day_4', 'pickup_day_5', 'pickup_day_6',\n",
       "       'pickup_day_7', 'pickup_day_8', 'pickup_day_9', 'pickup_day_10',\n",
       "       'pickup_day_11', 'pickup_day_12', 'pickup_day_13', 'pickup_day_14',\n",
       "       'pickup_day_15', 'pickup_day_16', 'pickup_day_17', 'pickup_day_18',\n",
       "       'pickup_day_19', 'pickup_day_20', 'pickup_day_21', 'pickup_day_22',\n",
       "       'pickup_day_23', 'pickup_day_24', 'pickup_day_25', 'pickup_day_26',\n",
       "       'pickup_day_27', 'pickup_day_28', 'pickup_day_29', 'pickup_day_30',\n",
       "       'pickup_day_31'],\n",
       "      dtype='object')"
      ]
     },
     "execution_count": 51,
     "metadata": {},
     "output_type": "execute_result"
    }
   ],
   "source": [
    "test.columns"
   ]
  },
  {
   "cell_type": "markdown",
   "metadata": {},
   "source": [
    "3) Distance using latitude and longitude"
   ]
  },
  {
   "cell_type": "code",
   "execution_count": 52,
   "metadata": {},
   "outputs": [],
   "source": [
    "test['distance'] = distance(test['pickup_latitude'],test['pickup_longitude'],test['dropoff_latitude'],test['dropoff_longitude'])"
   ]
  },
  {
   "cell_type": "markdown",
   "metadata": {},
   "source": [
    "4) store_and_fwd_flag -\n",
    "Encoding"
   ]
  },
  {
   "cell_type": "code",
   "execution_count": 53,
   "metadata": {},
   "outputs": [],
   "source": [
    "test = pd.concat((test,pd.get_dummies(test['store_and_fwd_flag'],prefix = 'store_and_fwd_flag' )),axis=1)"
   ]
  },
  {
   "cell_type": "code",
   "execution_count": 54,
   "metadata": {},
   "outputs": [
    {
     "data": {
      "text/html": [
       "<div>\n",
       "<style scoped>\n",
       "    .dataframe tbody tr th:only-of-type {\n",
       "        vertical-align: middle;\n",
       "    }\n",
       "\n",
       "    .dataframe tbody tr th {\n",
       "        vertical-align: top;\n",
       "    }\n",
       "\n",
       "    .dataframe thead th {\n",
       "        text-align: right;\n",
       "    }\n",
       "</style>\n",
       "<table border=\"1\" class=\"dataframe\">\n",
       "  <thead>\n",
       "    <tr style=\"text-align: right;\">\n",
       "      <th></th>\n",
       "      <th>id</th>\n",
       "      <th>vendor_id</th>\n",
       "      <th>pickup_datetime</th>\n",
       "      <th>passenger_count</th>\n",
       "      <th>pickup_longitude</th>\n",
       "      <th>pickup_latitude</th>\n",
       "      <th>dropoff_longitude</th>\n",
       "      <th>dropoff_latitude</th>\n",
       "      <th>store_and_fwd_flag</th>\n",
       "      <th>vendor_id_1</th>\n",
       "      <th>...</th>\n",
       "      <th>pickup_day_25</th>\n",
       "      <th>pickup_day_26</th>\n",
       "      <th>pickup_day_27</th>\n",
       "      <th>pickup_day_28</th>\n",
       "      <th>pickup_day_29</th>\n",
       "      <th>pickup_day_30</th>\n",
       "      <th>pickup_day_31</th>\n",
       "      <th>distance</th>\n",
       "      <th>store_and_fwd_flag_N</th>\n",
       "      <th>store_and_fwd_flag_Y</th>\n",
       "    </tr>\n",
       "  </thead>\n",
       "  <tbody>\n",
       "    <tr>\n",
       "      <th>0</th>\n",
       "      <td>id3004672</td>\n",
       "      <td>1</td>\n",
       "      <td>2016-06-30 23:59:58</td>\n",
       "      <td>1</td>\n",
       "      <td>-73.988129</td>\n",
       "      <td>40.732029</td>\n",
       "      <td>-73.990173</td>\n",
       "      <td>40.756680</td>\n",
       "      <td>N</td>\n",
       "      <td>1</td>\n",
       "      <td>...</td>\n",
       "      <td>0</td>\n",
       "      <td>0</td>\n",
       "      <td>0</td>\n",
       "      <td>0</td>\n",
       "      <td>0</td>\n",
       "      <td>1</td>\n",
       "      <td>0</td>\n",
       "      <td>2.747288</td>\n",
       "      <td>1</td>\n",
       "      <td>0</td>\n",
       "    </tr>\n",
       "    <tr>\n",
       "      <th>1</th>\n",
       "      <td>id3505355</td>\n",
       "      <td>1</td>\n",
       "      <td>2016-06-30 23:59:53</td>\n",
       "      <td>1</td>\n",
       "      <td>-73.964203</td>\n",
       "      <td>40.679993</td>\n",
       "      <td>-73.959808</td>\n",
       "      <td>40.655403</td>\n",
       "      <td>N</td>\n",
       "      <td>1</td>\n",
       "      <td>...</td>\n",
       "      <td>0</td>\n",
       "      <td>0</td>\n",
       "      <td>0</td>\n",
       "      <td>0</td>\n",
       "      <td>0</td>\n",
       "      <td>1</td>\n",
       "      <td>0</td>\n",
       "      <td>2.760105</td>\n",
       "      <td>1</td>\n",
       "      <td>0</td>\n",
       "    </tr>\n",
       "    <tr>\n",
       "      <th>2</th>\n",
       "      <td>id1217141</td>\n",
       "      <td>1</td>\n",
       "      <td>2016-06-30 23:59:47</td>\n",
       "      <td>1</td>\n",
       "      <td>-73.997437</td>\n",
       "      <td>40.737583</td>\n",
       "      <td>-73.986160</td>\n",
       "      <td>40.729523</td>\n",
       "      <td>N</td>\n",
       "      <td>1</td>\n",
       "      <td>...</td>\n",
       "      <td>0</td>\n",
       "      <td>0</td>\n",
       "      <td>0</td>\n",
       "      <td>0</td>\n",
       "      <td>0</td>\n",
       "      <td>1</td>\n",
       "      <td>0</td>\n",
       "      <td>1.306565</td>\n",
       "      <td>1</td>\n",
       "      <td>0</td>\n",
       "    </tr>\n",
       "    <tr>\n",
       "      <th>3</th>\n",
       "      <td>id2150126</td>\n",
       "      <td>2</td>\n",
       "      <td>2016-06-30 23:59:41</td>\n",
       "      <td>1</td>\n",
       "      <td>-73.956070</td>\n",
       "      <td>40.771900</td>\n",
       "      <td>-73.986427</td>\n",
       "      <td>40.730469</td>\n",
       "      <td>N</td>\n",
       "      <td>0</td>\n",
       "      <td>...</td>\n",
       "      <td>0</td>\n",
       "      <td>0</td>\n",
       "      <td>0</td>\n",
       "      <td>0</td>\n",
       "      <td>0</td>\n",
       "      <td>1</td>\n",
       "      <td>0</td>\n",
       "      <td>5.270742</td>\n",
       "      <td>1</td>\n",
       "      <td>0</td>\n",
       "    </tr>\n",
       "    <tr>\n",
       "      <th>4</th>\n",
       "      <td>id1598245</td>\n",
       "      <td>1</td>\n",
       "      <td>2016-06-30 23:59:33</td>\n",
       "      <td>1</td>\n",
       "      <td>-73.970215</td>\n",
       "      <td>40.761475</td>\n",
       "      <td>-73.961510</td>\n",
       "      <td>40.755890</td>\n",
       "      <td>N</td>\n",
       "      <td>1</td>\n",
       "      <td>...</td>\n",
       "      <td>0</td>\n",
       "      <td>0</td>\n",
       "      <td>0</td>\n",
       "      <td>0</td>\n",
       "      <td>0</td>\n",
       "      <td>1</td>\n",
       "      <td>0</td>\n",
       "      <td>0.961143</td>\n",
       "      <td>1</td>\n",
       "      <td>0</td>\n",
       "    </tr>\n",
       "  </tbody>\n",
       "</table>\n",
       "<p>5 rows × 71 columns</p>\n",
       "</div>"
      ],
      "text/plain": [
       "          id  vendor_id     pickup_datetime  passenger_count  \\\n",
       "0  id3004672          1 2016-06-30 23:59:58                1   \n",
       "1  id3505355          1 2016-06-30 23:59:53                1   \n",
       "2  id1217141          1 2016-06-30 23:59:47                1   \n",
       "3  id2150126          2 2016-06-30 23:59:41                1   \n",
       "4  id1598245          1 2016-06-30 23:59:33                1   \n",
       "\n",
       "   pickup_longitude  pickup_latitude  dropoff_longitude  dropoff_latitude  \\\n",
       "0        -73.988129        40.732029         -73.990173         40.756680   \n",
       "1        -73.964203        40.679993         -73.959808         40.655403   \n",
       "2        -73.997437        40.737583         -73.986160         40.729523   \n",
       "3        -73.956070        40.771900         -73.986427         40.730469   \n",
       "4        -73.970215        40.761475         -73.961510         40.755890   \n",
       "\n",
       "  store_and_fwd_flag  vendor_id_1  ...  pickup_day_25  pickup_day_26  \\\n",
       "0                  N            1  ...              0              0   \n",
       "1                  N            1  ...              0              0   \n",
       "2                  N            1  ...              0              0   \n",
       "3                  N            0  ...              0              0   \n",
       "4                  N            1  ...              0              0   \n",
       "\n",
       "   pickup_day_27  pickup_day_28  pickup_day_29  pickup_day_30  pickup_day_31  \\\n",
       "0              0              0              0              1              0   \n",
       "1              0              0              0              1              0   \n",
       "2              0              0              0              1              0   \n",
       "3              0              0              0              1              0   \n",
       "4              0              0              0              1              0   \n",
       "\n",
       "   distance  store_and_fwd_flag_N  store_and_fwd_flag_Y  \n",
       "0  2.747288                     1                     0  \n",
       "1  2.760105                     1                     0  \n",
       "2  1.306565                     1                     0  \n",
       "3  5.270742                     1                     0  \n",
       "4  0.961143                     1                     0  \n",
       "\n",
       "[5 rows x 71 columns]"
      ]
     },
     "execution_count": 54,
     "metadata": {},
     "output_type": "execute_result"
    }
   ],
   "source": [
    "test.head()"
   ]
  },
  {
   "cell_type": "markdown",
   "metadata": {},
   "source": [
    "Fit RF Regressor with Grid Search"
   ]
  },
  {
   "cell_type": "code",
   "execution_count": 57,
   "metadata": {},
   "outputs": [],
   "source": [
    "RF = RandomForestRegressor()"
   ]
  },
  {
   "cell_type": "code",
   "execution_count": 63,
   "metadata": {},
   "outputs": [
    {
     "data": {
      "text/plain": [
       "RandomForestRegressor()"
      ]
     },
     "execution_count": 63,
     "metadata": {},
     "output_type": "execute_result"
    }
   ],
   "source": [
    "RF.fit(train[['vendor_id_1','vendor_id_2',\n",
    "       'pickup_hour_0', 'pickup_hour_1','pickup_hour_2', 'pickup_hour_3', 'pickup_hour_4','pickup_hour_5',\n",
    "       'pickup_hour_6', 'pickup_hour_7', 'pickup_hour_8', 'pickup_hour_9',\n",
    "       'pickup_hour_10', 'pickup_hour_11', 'pickup_hour_12', 'pickup_hour_13',\n",
    "       'pickup_hour_14', 'pickup_hour_15', 'pickup_hour_16', 'pickup_hour_17',\n",
    "       'pickup_hour_18', 'pickup_hour_19', 'pickup_hour_20', 'pickup_hour_21',\n",
    "       'pickup_hour_22', 'pickup_hour_23',\n",
    "       'pickup_day_1','pickup_day_2', 'pickup_day_3', 'pickup_day_4', 'pickup_day_5',\n",
    "       'pickup_day_6', 'pickup_day_7', 'pickup_day_8', 'pickup_day_9',\n",
    "       'pickup_day_10', 'pickup_day_11', 'pickup_day_12', 'pickup_day_13',\n",
    "       'pickup_day_14', 'pickup_day_15', 'pickup_day_16', 'pickup_day_17',\n",
    "       'pickup_day_18', 'pickup_day_19', 'pickup_day_20', 'pickup_day_21',\n",
    "       'pickup_day_22', 'pickup_day_23', 'pickup_day_24', 'pickup_day_25',\n",
    "       'pickup_day_26', 'pickup_day_27', 'pickup_day_28', 'pickup_day_29',\n",
    "       'pickup_day_30', 'pickup_day_31', 'store_and_fwd_flag_N',\n",
    "       'store_and_fwd_flag_Y','distance']],train['trip_duration'])"
   ]
  },
  {
   "cell_type": "code",
   "execution_count": 64,
   "metadata": {},
   "outputs": [],
   "source": [
    "submission = RF.predict(test[['vendor_id_1','vendor_id_2',\n",
    "       'pickup_hour_0', 'pickup_hour_1','pickup_hour_2', 'pickup_hour_3', 'pickup_hour_4','pickup_hour_5',\n",
    "       'pickup_hour_6', 'pickup_hour_7', 'pickup_hour_8', 'pickup_hour_9',\n",
    "       'pickup_hour_10', 'pickup_hour_11', 'pickup_hour_12', 'pickup_hour_13',\n",
    "       'pickup_hour_14', 'pickup_hour_15', 'pickup_hour_16', 'pickup_hour_17',\n",
    "       'pickup_hour_18', 'pickup_hour_19', 'pickup_hour_20', 'pickup_hour_21',\n",
    "       'pickup_hour_22', 'pickup_hour_23',\n",
    "       'pickup_day_1','pickup_day_2', 'pickup_day_3', 'pickup_day_4', 'pickup_day_5',\n",
    "       'pickup_day_6', 'pickup_day_7', 'pickup_day_8', 'pickup_day_9',\n",
    "       'pickup_day_10', 'pickup_day_11', 'pickup_day_12', 'pickup_day_13',\n",
    "       'pickup_day_14', 'pickup_day_15', 'pickup_day_16', 'pickup_day_17',\n",
    "       'pickup_day_18', 'pickup_day_19', 'pickup_day_20', 'pickup_day_21',\n",
    "       'pickup_day_22', 'pickup_day_23', 'pickup_day_24', 'pickup_day_25',\n",
    "       'pickup_day_26', 'pickup_day_27', 'pickup_day_28', 'pickup_day_29',\n",
    "       'pickup_day_30', 'pickup_day_31', 'store_and_fwd_flag_N',\n",
    "       'store_and_fwd_flag_Y','distance']])"
   ]
  },
  {
   "cell_type": "code",
   "execution_count": 65,
   "metadata": {},
   "outputs": [
    {
     "data": {
      "text/html": [
       "<div>\n",
       "<style scoped>\n",
       "    .dataframe tbody tr th:only-of-type {\n",
       "        vertical-align: middle;\n",
       "    }\n",
       "\n",
       "    .dataframe tbody tr th {\n",
       "        vertical-align: top;\n",
       "    }\n",
       "\n",
       "    .dataframe thead th {\n",
       "        text-align: right;\n",
       "    }\n",
       "</style>\n",
       "<table border=\"1\" class=\"dataframe\">\n",
       "  <thead>\n",
       "    <tr style=\"text-align: right;\">\n",
       "      <th></th>\n",
       "      <th>0</th>\n",
       "    </tr>\n",
       "  </thead>\n",
       "  <tbody>\n",
       "    <tr>\n",
       "      <th>0</th>\n",
       "      <td>621.63</td>\n",
       "    </tr>\n",
       "    <tr>\n",
       "      <th>1</th>\n",
       "      <td>659.69</td>\n",
       "    </tr>\n",
       "    <tr>\n",
       "      <th>2</th>\n",
       "      <td>538.37</td>\n",
       "    </tr>\n",
       "    <tr>\n",
       "      <th>3</th>\n",
       "      <td>936.58</td>\n",
       "    </tr>\n",
       "    <tr>\n",
       "      <th>4</th>\n",
       "      <td>273.07</td>\n",
       "    </tr>\n",
       "  </tbody>\n",
       "</table>\n",
       "</div>"
      ],
      "text/plain": [
       "        0\n",
       "0  621.63\n",
       "1  659.69\n",
       "2  538.37\n",
       "3  936.58\n",
       "4  273.07"
      ]
     },
     "execution_count": 65,
     "metadata": {},
     "output_type": "execute_result"
    }
   ],
   "source": [
    "pd.DataFrame(submission).head()"
   ]
  },
  {
   "cell_type": "code",
   "execution_count": 66,
   "metadata": {},
   "outputs": [],
   "source": [
    "submission = pd.concat((test['id'],pd.DataFrame(submission,columns = ['trip_duration'])),axis =1)"
   ]
  },
  {
   "cell_type": "code",
   "execution_count": 67,
   "metadata": {},
   "outputs": [
    {
     "data": {
      "text/html": [
       "<div>\n",
       "<style scoped>\n",
       "    .dataframe tbody tr th:only-of-type {\n",
       "        vertical-align: middle;\n",
       "    }\n",
       "\n",
       "    .dataframe tbody tr th {\n",
       "        vertical-align: top;\n",
       "    }\n",
       "\n",
       "    .dataframe thead th {\n",
       "        text-align: right;\n",
       "    }\n",
       "</style>\n",
       "<table border=\"1\" class=\"dataframe\">\n",
       "  <thead>\n",
       "    <tr style=\"text-align: right;\">\n",
       "      <th></th>\n",
       "      <th>id</th>\n",
       "      <th>trip_duration</th>\n",
       "    </tr>\n",
       "  </thead>\n",
       "  <tbody>\n",
       "    <tr>\n",
       "      <th>0</th>\n",
       "      <td>id3004672</td>\n",
       "      <td>621.63</td>\n",
       "    </tr>\n",
       "    <tr>\n",
       "      <th>1</th>\n",
       "      <td>id3505355</td>\n",
       "      <td>659.69</td>\n",
       "    </tr>\n",
       "    <tr>\n",
       "      <th>2</th>\n",
       "      <td>id1217141</td>\n",
       "      <td>538.37</td>\n",
       "    </tr>\n",
       "    <tr>\n",
       "      <th>3</th>\n",
       "      <td>id2150126</td>\n",
       "      <td>936.58</td>\n",
       "    </tr>\n",
       "    <tr>\n",
       "      <th>4</th>\n",
       "      <td>id1598245</td>\n",
       "      <td>273.07</td>\n",
       "    </tr>\n",
       "  </tbody>\n",
       "</table>\n",
       "</div>"
      ],
      "text/plain": [
       "          id  trip_duration\n",
       "0  id3004672         621.63\n",
       "1  id3505355         659.69\n",
       "2  id1217141         538.37\n",
       "3  id2150126         936.58\n",
       "4  id1598245         273.07"
      ]
     },
     "execution_count": 67,
     "metadata": {},
     "output_type": "execute_result"
    }
   ],
   "source": [
    "submission.head()"
   ]
  },
  {
   "cell_type": "code",
   "execution_count": 68,
   "metadata": {},
   "outputs": [],
   "source": [
    "submission.to_csv('E:/Arvind/Kaggle/New York City Taxi Trip Duration/Output/submission.csv')"
   ]
  }
 ],
 "metadata": {
  "kernelspec": {
   "display_name": "Python 3",
   "language": "python",
   "name": "python3"
  },
  "language_info": {
   "codemirror_mode": {
    "name": "ipython",
    "version": 3
   },
   "file_extension": ".py",
   "mimetype": "text/x-python",
   "name": "python",
   "nbconvert_exporter": "python",
   "pygments_lexer": "ipython3",
   "version": "3.8.5"
  }
 },
 "nbformat": 4,
 "nbformat_minor": 4
}
